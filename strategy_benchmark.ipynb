{
 "cells": [
  {
   "cell_type": "markdown",
   "metadata": {},
   "source": [
    "# Strategy Benchmark"
   ]
  },
  {
   "cell_type": "code",
   "execution_count": null,
   "metadata": {},
   "outputs": [],
   "source": [
    "from backtest import *\n",
    "from data_preparation import *\n",
    "import pandas as pd"
   ]
  },
  {
   "cell_type": "markdown",
   "metadata": {},
   "source": [
    "## Strategy Demo"
   ]
  },
  {
   "cell_type": "code",
   "execution_count": null,
   "metadata": {},
   "outputs": [],
   "source": [
    "period = \"35d\"\n",
    "interval = \"5m\"\n",
    "ticker_list = ['PEP']\n",
    "ticker = ticker_list[0]"
   ]
  },
  {
   "cell_type": "code",
   "execution_count": null,
   "metadata": {},
   "outputs": [],
   "source": [
    "init_balance = 10000\n",
    "\n",
    "df, last_update = refresh(ticker, period=period, interval = interval)\n",
    "bnh = buy_n_hold(init_balance, df)"
   ]
  },
  {
   "cell_type": "code",
   "execution_count": null,
   "metadata": {},
   "outputs": [],
   "source": [
    "import strategy.strategy_wma as wma\n",
    "\n",
    "df_wma = wma.prep_data(df, 89, 90)\n",
    "test(init_balance, df_wma, wma.sell_or_buy, output=\"oneline\", verbose=False)\n",
    "plot_wma(df_wma, signals=buy_sell(df_wma, wma.sell_or_buy))"
   ]
  },
  {
   "cell_type": "code",
   "execution_count": null,
   "metadata": {},
   "outputs": [],
   "source": [
    "#import strategy.strategy_hma as hma\n",
    "\n",
    "#df_hma = hma.prep_data(df, 55, 34)\n",
    "#a = test(init_balance, df_hma, hma.sell_or_buy)\n",
    "#plot_hma(df_hma, signals=buy_sell(df_hma, hma.sell_or_buy))"
   ]
  },
  {
   "cell_type": "code",
   "execution_count": null,
   "metadata": {},
   "outputs": [],
   "source": [
    "import strategy.strategy_macd as macd\n",
    "\n",
    "df_macd = macd.prep_data(df, 144, 377)\n",
    "test(init_balance, df_macd, macd.sell_or_buy, verbose = False)\n",
    "plot_macd(df_macd, signals=buy_sell(df_macd, macd.sell_or_buy))"
   ]
  },
  {
   "cell_type": "code",
   "execution_count": null,
   "metadata": {},
   "outputs": [],
   "source": [
    "#import strategy.strategy_kagi as kagi\n",
    "\n",
    "#df_kagi = kagi.prep_data(df, 0.01, 1)\n",
    "#test(init_balance, df_kagi, kagi.sell_or_buy, verbose=False)\n",
    "#kagi.plot(df, True)"
   ]
  },
  {
   "cell_type": "code",
   "execution_count": null,
   "metadata": {},
   "outputs": [],
   "source": [
    "import strategy.strategy_supertrend as supertrend\n",
    "\n",
    "st_df = supertrend.prep_data(df, 3, 377)\n",
    "test(init_balance, st_df, supertrend.sell_or_buy)\n",
    "plot_supertrend(st_df, signals=buy_sell(st_df, supertrend.sell_or_buy))"
   ]
  },
  {
   "cell_type": "code",
   "execution_count": null,
   "metadata": {},
   "outputs": [],
   "source": [
    "import strategy.strategy_rvwma as rvwma\n",
    "\n",
    "df_rvwma = rvwma.prep_data(df, 55, 378)\n",
    "test(init_balance, df_rvwma, rvwma.sell_or_buy)\n",
    "plot_rvwma(df_rvwma, signals=buy_sell(df_rvwma, rvwma.sell_or_buy))"
   ]
  },
  {
   "cell_type": "markdown",
   "metadata": {},
   "source": [
    "## Parameter Tuning"
   ]
  },
  {
   "cell_type": "code",
   "execution_count": null,
   "metadata": {},
   "outputs": [],
   "source": [
    "ticker_list =[\"TSLA\", \"AAPL\", \"MSFT\", \"GOOGL\", \"BRK-B\"]\n",
    "\n",
    "fib_seq = [13, 21, 34, 55, 89, 144, 233, 377, 610]\n",
    "fib1_seq = [14, 22, 35, 56, 90, 145, 234, 378, 611]\n",
    "reversal = [0.001, 0.002, 0.005, 0.0075, 0.01, 0.02, 0.03, 0.04, 0.05]\n",
    "multipiler = [0.5, 1, 1.5, 2, 2.5, 3, 3.5, 4, 4.5, 5, 5.5, 6.0]"
   ]
  },
  {
   "cell_type": "code",
   "execution_count": null,
   "metadata": {
    "scrolled": false
   },
   "outputs": [],
   "source": [
    "picks = []\n",
    "picks += run_strategy(ticker_list, fib_seq, fib1_seq, period, interval, wma, False)\n",
    "picks += run_strategy(ticker_list, fib_seq, fib1_seq, period, interval, macd, False)\n",
    "picks += run_strategy(ticker_list, multipiler, fib_seq, period, interval, supertrend)\n",
    "picks += run_strategy(ticker_list, fib_seq, fib1_seq, period, interval, rvwma)\n",
    "\n",
    "print(\"Done!\")"
   ]
  },
  {
   "cell_type": "code",
   "execution_count": null,
   "metadata": {},
   "outputs": [],
   "source": [
    "print(f\"Total number of picks: {len(picks)}\")\n",
    "\n",
    "picks = [pick for pick in picks if pick[2] < 10]\n",
    "picks.sort(reverse=True, key=lambda i: i[1])\n",
    "\n",
    "for i in range(0, min(len(picks), 10)):\n",
    "    print(\n",
    "        \"  The #{} config is ({}) profit margin is {:.4f}%. # of Trade is {}\".format(\n",
    "            i + 1,\n",
    "            picks[i][0],\n",
    "            picks[i][1],\n",
    "            picks[i][2])\n",
    "        )"
   ]
  },
  {
   "cell_type": "markdown",
   "metadata": {},
   "source": [
    "## Verification"
   ]
  },
  {
   "cell_type": "code",
   "execution_count": null,
   "metadata": {
    "scrolled": true
   },
   "outputs": [],
   "source": [
    "#tickers = ['TQQQ','AMD', 'W', 'UAL']\n",
    "\n",
    "for ticker in ticker_list:\n",
    "    df, last_update = refresh(ticker, period, interval)\n",
    "    \n",
    "    print(\"Testing '{}'...\".format(ticker))\n",
    "    print(\"    WMA: \\t\",end='')\n",
    "    test(init_balance, wma.prep_data(df, 233, 90), wma.sell_or_buy) # verified\n",
    "    print(\"    MACD: \\t\",end='')\n",
    "    test(init_balance, macd.prep_data(df, 34, 56), macd.sell_or_buy) # verified\n",
    "    print(\"    SuperT: \\t\",end='')\n",
    "    test(init_balance, supertrend.prep_data(df, 6.0, 55), supertrend.sell_or_buy) # verified\n",
    "    print(\"    RVWMA: \\t\",end='')\n",
    "    test(init_balance, rvwma.prep_data(df, 55, 378), rvwma.sell_or_buy) # verified\n",
    "  \n",
    "    ################################################################\n",
    "    print(\"    G Best: \\t\",end='')\n",
    "    test(init_balance, rd.prep_data(df, 0.03, 233), rd.sell_or_buy) # verified\n",
    "\n",
    "    #print(\"    HMA: \\t\",end='')\n",
    "    #test(10000, hma.prep_data(df, 89, 35), hma.sell_or_buy) # verified\n",
    "    #print(\"    Kagi: \\t\",end='')\n",
    "    #test(10000, kagi.prep_data(df, 0.005, 1), kagi.sell_or_buy) # verified\n",
    "    print(\"    Buy&Hold: \\t\",end='')\n",
    "    buy_n_hold(init_balance, df)"
   ]
  }
 ],
 "metadata": {
  "kernelspec": {
   "display_name": "Python 3",
   "language": "python",
   "name": "python3"
  },
  "language_info": {
   "codemirror_mode": {
    "name": "ipython",
    "version": 3
   },
   "file_extension": ".py",
   "mimetype": "text/x-python",
   "name": "python",
   "nbconvert_exporter": "python",
   "pygments_lexer": "ipython3",
   "version": "3.8.5-final"
  }
 },
 "nbformat": 4,
 "nbformat_minor": 4
}